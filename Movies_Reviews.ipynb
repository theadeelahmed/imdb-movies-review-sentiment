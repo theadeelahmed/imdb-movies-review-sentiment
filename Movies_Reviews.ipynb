{
 "cells": [
  {
   "cell_type": "code",
   "execution_count": 2,
   "metadata": {
    "colab": {
     "base_uri": "https://localhost:8080/"
    },
    "id": "HqrRt51wssjK",
    "outputId": "80475942-285d-4813-cd97-613b8b1eff32"
   },
   "outputs": [],
   "source": [
    "# load data: already in vector form\n",
    "from tensorflow.keras.datasets import imdb\n",
    "(train_data, train_labels), (test_data, test_labels) = imdb.load_data(num_words=10000)"
   ]
  },
  {
   "cell_type": "code",
   "execution_count": 3,
   "metadata": {},
   "outputs": [
    {
     "name": "stdout",
     "output_type": "stream",
     "text": [
      "[1, 194, 1153, 194, 8255, 78, 228, 5, 6, 1463, 4369, 5012, 134, 26, 4, 715, 8, 118, 1634, 14, 394, 20, 13, 119, 954, 189, 102, 5, 207, 110, 3103, 21, 14, 69, 188, 8, 30, 23, 7, 4, 249, 126, 93, 4, 114, 9, 2300, 1523, 5, 647, 4, 116, 9, 35, 8163, 4, 229, 9, 340, 1322, 4, 118, 9, 4, 130, 4901, 19, 4, 1002, 5, 89, 29, 952, 46, 37, 4, 455, 9, 45, 43, 38, 1543, 1905, 398, 4, 1649, 26, 6853, 5, 163, 11, 3215, 2, 4, 1153, 9, 194, 775, 7, 8255, 2, 349, 2637, 148, 605, 2, 8003, 15, 123, 125, 68, 2, 6853, 15, 349, 165, 4362, 98, 5, 4, 228, 9, 43, 2, 1157, 15, 299, 120, 5, 120, 174, 11, 220, 175, 136, 50, 9, 4373, 228, 8255, 5, 2, 656, 245, 2350, 5, 4, 9837, 131, 152, 491, 18, 2, 32, 7464, 1212, 14, 9, 6, 371, 78, 22, 625, 64, 1382, 9, 8, 168, 145, 23, 4, 1690, 15, 16, 4, 1355, 5, 28, 6, 52, 154, 462, 33, 89, 78, 285, 16, 145, 95]\n"
     ]
    }
   ],
   "source": [
    "print(train_data[1])"
   ]
  },
  {
   "cell_type": "code",
   "execution_count": 4,
   "metadata": {
    "id": "ahbAMOYWtFwv"
   },
   "outputs": [],
   "source": [
    "import numpy as np\n",
    "def vectorize_sequences(sequences, dimension=10000):\n",
    "  results = np.zeros((len(sequences), dimension))\n",
    "  for i, sequence in enumerate(sequences):\n",
    "    for j in sequence:\n",
    "      results[i, j] = 1.\n",
    "  return results"
   ]
  },
  {
   "cell_type": "code",
   "execution_count": 5,
   "metadata": {
    "id": "jZRWWBICtRhz"
   },
   "outputs": [],
   "source": [
    "x_train = vectorize_sequences(train_data)\n",
    "x_test = vectorize_sequences(test_data)"
   ]
  },
  {
   "cell_type": "code",
   "execution_count": 6,
   "metadata": {
    "id": "GSpPG982wxqb"
   },
   "outputs": [],
   "source": [
    "from tensorflow import keras\n",
    "from tensorflow.keras import layers\n",
    "model = keras.Sequential([\n",
    "                          layers.Dense(16, activation=\"relu\"),\n",
    "                          layers.Dense(16, activation=\"relu\"),\n",
    "                          layers.Dense(1, activation=\"sigmoid\")\n",
    "                        ])"
   ]
  },
  {
   "cell_type": "code",
   "execution_count": 7,
   "metadata": {
    "id": "RZ2pDQ5vxEM7"
   },
   "outputs": [],
   "source": [
    "model.compile(optimizer=\"rmsprop\",loss=\"binary_crossentropy\",metrics=[\"accuracy\"])"
   ]
  },
  {
   "cell_type": "code",
   "execution_count": 8,
   "metadata": {
    "id": "y_2l2Ux3x-Y2"
   },
   "outputs": [],
   "source": [
    "x_val = x_train[:10000]\n",
    "\n",
    "partial_x_train = x_train[10000:]\n",
    "\n",
    "y_val = train_labels[:10000]\n",
    "\n",
    "partial_y_train = train_labels[10000:]"
   ]
  },
  {
   "cell_type": "code",
   "execution_count": 9,
   "metadata": {
    "colab": {
     "base_uri": "https://localhost:8080/"
    },
    "id": "rUHUJ5SGzhfl",
    "outputId": "c747edc4-2ecf-4b58-c84a-9f3a4fd7cdef"
   },
   "outputs": [
    {
     "name": "stdout",
     "output_type": "stream",
     "text": [
      "Epoch 1/20\n",
      "\u001b[1m30/30\u001b[0m \u001b[32m━━━━━━━━━━━━━━━━━━━━\u001b[0m\u001b[37m\u001b[0m \u001b[1m9s\u001b[0m 187ms/step - accuracy: 0.6944 - loss: 0.6063 - val_accuracy: 0.8501 - val_loss: 0.4094\n",
      "Epoch 2/20\n",
      "\u001b[1m30/30\u001b[0m \u001b[32m━━━━━━━━━━━━━━━━━━━━\u001b[0m\u001b[37m\u001b[0m \u001b[1m1s\u001b[0m 22ms/step - accuracy: 0.8859 - loss: 0.3490 - val_accuracy: 0.8847 - val_loss: 0.3116\n",
      "Epoch 3/20\n",
      "\u001b[1m30/30\u001b[0m \u001b[32m━━━━━━━━━━━━━━━━━━━━\u001b[0m\u001b[37m\u001b[0m \u001b[1m1s\u001b[0m 25ms/step - accuracy: 0.9209 - loss: 0.2445 - val_accuracy: 0.8684 - val_loss: 0.3167\n",
      "Epoch 4/20\n",
      "\u001b[1m30/30\u001b[0m \u001b[32m━━━━━━━━━━━━━━━━━━━━\u001b[0m\u001b[37m\u001b[0m \u001b[1m1s\u001b[0m 29ms/step - accuracy: 0.9358 - loss: 0.1986 - val_accuracy: 0.8810 - val_loss: 0.2940\n",
      "Epoch 5/20\n",
      "\u001b[1m30/30\u001b[0m \u001b[32m━━━━━━━━━━━━━━━━━━━━\u001b[0m\u001b[37m\u001b[0m \u001b[1m1s\u001b[0m 23ms/step - accuracy: 0.9514 - loss: 0.1552 - val_accuracy: 0.8899 - val_loss: 0.2772\n",
      "Epoch 6/20\n",
      "\u001b[1m30/30\u001b[0m \u001b[32m━━━━━━━━━━━━━━━━━━━━\u001b[0m\u001b[37m\u001b[0m \u001b[1m1s\u001b[0m 21ms/step - accuracy: 0.9578 - loss: 0.1341 - val_accuracy: 0.8800 - val_loss: 0.3022\n",
      "Epoch 7/20\n",
      "\u001b[1m30/30\u001b[0m \u001b[32m━━━━━━━━━━━━━━━━━━━━\u001b[0m\u001b[37m\u001b[0m \u001b[1m1s\u001b[0m 24ms/step - accuracy: 0.9671 - loss: 0.1125 - val_accuracy: 0.8805 - val_loss: 0.3124\n",
      "Epoch 8/20\n",
      "\u001b[1m30/30\u001b[0m \u001b[32m━━━━━━━━━━━━━━━━━━━━\u001b[0m\u001b[37m\u001b[0m \u001b[1m1s\u001b[0m 26ms/step - accuracy: 0.9730 - loss: 0.0960 - val_accuracy: 0.8829 - val_loss: 0.3189\n",
      "Epoch 9/20\n",
      "\u001b[1m30/30\u001b[0m \u001b[32m━━━━━━━━━━━━━━━━━━━━\u001b[0m\u001b[37m\u001b[0m \u001b[1m1s\u001b[0m 25ms/step - accuracy: 0.9815 - loss: 0.0775 - val_accuracy: 0.8631 - val_loss: 0.3962\n",
      "Epoch 10/20\n",
      "\u001b[1m30/30\u001b[0m \u001b[32m━━━━━━━━━━━━━━━━━━━━\u001b[0m\u001b[37m\u001b[0m \u001b[1m1s\u001b[0m 23ms/step - accuracy: 0.9785 - loss: 0.0746 - val_accuracy: 0.8781 - val_loss: 0.3578\n",
      "Epoch 11/20\n",
      "\u001b[1m30/30\u001b[0m \u001b[32m━━━━━━━━━━━━━━━━━━━━\u001b[0m\u001b[37m\u001b[0m \u001b[1m1s\u001b[0m 25ms/step - accuracy: 0.9880 - loss: 0.0558 - val_accuracy: 0.8776 - val_loss: 0.3669\n",
      "Epoch 12/20\n",
      "\u001b[1m30/30\u001b[0m \u001b[32m━━━━━━━━━━━━━━━━━━━━\u001b[0m\u001b[37m\u001b[0m \u001b[1m1s\u001b[0m 25ms/step - accuracy: 0.9903 - loss: 0.0460 - val_accuracy: 0.8755 - val_loss: 0.3860\n",
      "Epoch 13/20\n",
      "\u001b[1m30/30\u001b[0m \u001b[32m━━━━━━━━━━━━━━━━━━━━\u001b[0m\u001b[37m\u001b[0m \u001b[1m1s\u001b[0m 27ms/step - accuracy: 0.9946 - loss: 0.0349 - val_accuracy: 0.8768 - val_loss: 0.4084\n",
      "Epoch 14/20\n",
      "\u001b[1m30/30\u001b[0m \u001b[32m━━━━━━━━━━━━━━━━━━━━\u001b[0m\u001b[37m\u001b[0m \u001b[1m1s\u001b[0m 23ms/step - accuracy: 0.9951 - loss: 0.0303 - val_accuracy: 0.8749 - val_loss: 0.4308\n",
      "Epoch 15/20\n",
      "\u001b[1m30/30\u001b[0m \u001b[32m━━━━━━━━━━━━━━━━━━━━\u001b[0m\u001b[37m\u001b[0m \u001b[1m1s\u001b[0m 22ms/step - accuracy: 0.9960 - loss: 0.0256 - val_accuracy: 0.8765 - val_loss: 0.4512\n",
      "Epoch 16/20\n",
      "\u001b[1m30/30\u001b[0m \u001b[32m━━━━━━━━━━━━━━━━━━━━\u001b[0m\u001b[37m\u001b[0m \u001b[1m1s\u001b[0m 21ms/step - accuracy: 0.9979 - loss: 0.0192 - val_accuracy: 0.8720 - val_loss: 0.4819\n",
      "Epoch 17/20\n",
      "\u001b[1m30/30\u001b[0m \u001b[32m━━━━━━━━━━━━━━━━━━━━\u001b[0m\u001b[37m\u001b[0m \u001b[1m1s\u001b[0m 20ms/step - accuracy: 0.9983 - loss: 0.0155 - val_accuracy: 0.8731 - val_loss: 0.4958\n",
      "Epoch 18/20\n",
      "\u001b[1m30/30\u001b[0m \u001b[32m━━━━━━━━━━━━━━━━━━━━\u001b[0m\u001b[37m\u001b[0m \u001b[1m1s\u001b[0m 21ms/step - accuracy: 0.9994 - loss: 0.0117 - val_accuracy: 0.8709 - val_loss: 0.5237\n",
      "Epoch 19/20\n",
      "\u001b[1m30/30\u001b[0m \u001b[32m━━━━━━━━━━━━━━━━━━━━\u001b[0m\u001b[37m\u001b[0m \u001b[1m1s\u001b[0m 21ms/step - accuracy: 0.9985 - loss: 0.0130 - val_accuracy: 0.8685 - val_loss: 0.5559\n",
      "Epoch 20/20\n",
      "\u001b[1m30/30\u001b[0m \u001b[32m━━━━━━━━━━━━━━━━━━━━\u001b[0m\u001b[37m\u001b[0m \u001b[1m1s\u001b[0m 20ms/step - accuracy: 0.9992 - loss: 0.0097 - val_accuracy: 0.8726 - val_loss: 0.5592\n"
     ]
    }
   ],
   "source": [
    "history = model.fit(partial_x_train,partial_y_train,epochs=20,batch_size=512,validation_data=(x_val, y_val))"
   ]
  },
  {
   "cell_type": "code",
   "execution_count": 10,
   "metadata": {
    "colab": {
     "base_uri": "https://localhost:8080/"
    },
    "id": "qngXCUBNzx-a",
    "outputId": "410115c4-0e8d-45ff-9c3f-e15efed48e31"
   },
   "outputs": [
    {
     "data": {
      "text/plain": [
       "{'accuracy': [0.7738666534423828,\n",
       "  0.8881999850273132,\n",
       "  0.9183333516120911,\n",
       "  0.9341333508491516,\n",
       "  0.9484666585922241,\n",
       "  0.955133318901062,\n",
       "  0.9646000266075134,\n",
       "  0.9702000021934509,\n",
       "  0.9780666828155518,\n",
       "  0.9810666441917419,\n",
       "  0.9851333498954773,\n",
       "  0.987933337688446,\n",
       "  0.993066668510437,\n",
       "  0.9944000244140625,\n",
       "  0.9946666955947876,\n",
       "  0.9955333471298218,\n",
       "  0.9968000054359436,\n",
       "  0.9992666840553284,\n",
       "  0.997866690158844,\n",
       "  0.9972000122070312],\n",
       " 'loss': [0.5339940786361694,\n",
       "  0.33022740483283997,\n",
       "  0.24150431156158447,\n",
       "  0.19548766314983368,\n",
       "  0.15968330204486847,\n",
       "  0.1364617496728897,\n",
       "  0.1146743893623352,\n",
       "  0.0993112325668335,\n",
       "  0.08102193474769592,\n",
       "  0.07092908024787903,\n",
       "  0.05844702571630478,\n",
       "  0.05039757117629051,\n",
       "  0.03856617584824562,\n",
       "  0.03257250040769577,\n",
       "  0.028936581686139107,\n",
       "  0.02417084388434887,\n",
       "  0.0199825931340456,\n",
       "  0.0123685821890831,\n",
       "  0.014415707439184189,\n",
       "  0.014649240300059319],\n",
       " 'val_accuracy': [0.8500999808311462,\n",
       "  0.8847000002861023,\n",
       "  0.868399977684021,\n",
       "  0.8809999823570251,\n",
       "  0.8899000287055969,\n",
       "  0.8799999952316284,\n",
       "  0.8805000185966492,\n",
       "  0.8828999996185303,\n",
       "  0.863099992275238,\n",
       "  0.8780999779701233,\n",
       "  0.8776000142097473,\n",
       "  0.8755000233650208,\n",
       "  0.876800000667572,\n",
       "  0.8748999834060669,\n",
       "  0.8765000104904175,\n",
       "  0.871999979019165,\n",
       "  0.8730999827384949,\n",
       "  0.8708999752998352,\n",
       "  0.8684999942779541,\n",
       "  0.8726000189781189],\n",
       " 'val_loss': [0.40943461656570435,\n",
       "  0.3116445541381836,\n",
       "  0.31670284271240234,\n",
       "  0.29402416944503784,\n",
       "  0.27718278765678406,\n",
       "  0.3022041618824005,\n",
       "  0.3124103844165802,\n",
       "  0.31890544295310974,\n",
       "  0.3962293267250061,\n",
       "  0.3578461706638336,\n",
       "  0.3669382929801941,\n",
       "  0.38603177666664124,\n",
       "  0.4084243178367615,\n",
       "  0.43075522780418396,\n",
       "  0.4512017071247101,\n",
       "  0.48188725113868713,\n",
       "  0.4958178699016571,\n",
       "  0.523700475692749,\n",
       "  0.5559150576591492,\n",
       "  0.5592421889305115]}"
      ]
     },
     "execution_count": 10,
     "metadata": {},
     "output_type": "execute_result"
    }
   ],
   "source": [
    "history.history"
   ]
  },
  {
   "cell_type": "code",
   "execution_count": 11,
   "metadata": {
    "colab": {
     "base_uri": "https://localhost:8080/",
     "height": 472
    },
    "id": "sAhxv_V73Ku8",
    "outputId": "e756a1b0-9351-4b76-a8b4-06401c7b91b0"
   },
   "outputs": [
    {
     "data": {
      "image/png": "[encoded data removed]",
      "text/plain": [
       "<Figure size 640x480 with 1 Axes>"
      ]
     },
     "metadata": {},
     "output_type": "display_data"
    }
   ],
   "source": [
    "import matplotlib.pyplot as plt\n",
    "history_dict = history.history\n",
    "loss_values = history_dict[\"loss\"]\n",
    "val_loss_values = history_dict[\"val_loss\"]\n",
    "epochs = range(1, len(loss_values) + 1)\n",
    "plt.plot(epochs, loss_values, \"bo\", label=\"Training loss\")\n",
    "plt.plot(epochs, val_loss_values, \"b\", label=\"Validation loss\")\n",
    "plt.title(\"Training and validation loss\")\n",
    "plt.xlabel(\"Epochs\")\n",
    "plt.ylabel(\"Loss\")\n",
    "plt.legend()\n",
    "plt.show()"
   ]
  },
  {
   "cell_type": "code",
   "execution_count": 12,
   "metadata": {
    "colab": {
     "base_uri": "https://localhost:8080/",
     "height": 472
    },
    "id": "lnhQKR3B3epf",
    "outputId": "0b483646-0403-436a-dd73-45ef1f56244b"
   },
   "outputs": [
    {
     "data": {
      "image/png": "[encoded data removed]",
      "text/plain": [
       "<Figure size 640x480 with 1 Axes>"
      ]
     },
     "metadata": {},
     "output_type": "display_data"
    }
   ],
   "source": [
    "plt.clf()\n",
    "acc = history_dict[\"accuracy\"]\n",
    "val_acc = history_dict[\"val_accuracy\"]\n",
    "plt.plot(epochs, acc, \"bo\", label=\"Training acc\")\n",
    "plt.plot(epochs, val_acc, \"b\", label=\"Validation acc\")\n",
    "plt.title(\"Training and validation accuracy\")\n",
    "plt.xlabel(\"Epochs\")\n",
    "plt.ylabel(\"Accuracy\")\n",
    "plt.legend()\n",
    "plt.show()"
   ]
  },
  {
   "cell_type": "code",
   "execution_count": 13,
   "metadata": {
    "colab": {
     "base_uri": "https://localhost:8080/"
    },
    "id": "-YNq52CV3sEB",
    "outputId": "7b53f9e8-34a9-42e8-ebe3-7362881ef718"
   },
   "outputs": [
    {
     "name": "stdout",
     "output_type": "stream",
     "text": [
      "Epoch 1/4\n",
      "\u001b[1m49/49\u001b[0m \u001b[32m━━━━━━━━━━━━━━━━━━━━\u001b[0m\u001b[37m\u001b[0m \u001b[1m12s\u001b[0m 77ms/step - accuracy: 0.7028 - loss: 0.5934\n",
      "Epoch 2/4\n",
      "\u001b[1m49/49\u001b[0m \u001b[32m━━━━━━━━━━━━━━━━━━━━\u001b[0m\u001b[37m\u001b[0m \u001b[1m1s\u001b[0m 17ms/step - accuracy: 0.8942 - loss: 0.3137\n",
      "Epoch 3/4\n",
      "\u001b[1m49/49\u001b[0m \u001b[32m━━━━━━━━━━━━━━━━━━━━\u001b[0m\u001b[37m\u001b[0m \u001b[1m1s\u001b[0m 16ms/step - accuracy: 0.9233 - loss: 0.2242\n",
      "Epoch 4/4\n",
      "\u001b[1m49/49\u001b[0m \u001b[32m━━━━━━━━━━━━━━━━━━━━\u001b[0m\u001b[37m\u001b[0m \u001b[1m1s\u001b[0m 15ms/step - accuracy: 0.9359 - loss: 0.1851\n"
     ]
    },
    {
     "data": {
      "text/plain": [
       "<keras.src.callbacks.history.History at 0x25240e60650>"
      ]
     },
     "execution_count": 13,
     "metadata": {},
     "output_type": "execute_result"
    }
   ],
   "source": [
    "model = keras.Sequential([\n",
    "                          layers.Dense(16, activation=\"relu\"),\n",
    "                          layers.Dense(16, activation=\"relu\"),layers.Dense(1, activation=\"sigmoid\")\n",
    "                      ])\n",
    "model.compile(optimizer=\"rmsprop\",loss=\"binary_crossentropy\",metrics=[\"accuracy\"])\n",
    "model.fit(x_train, train_labels, epochs=4, batch_size=512)\n"
   ]
  },
  {
   "cell_type": "code",
   "execution_count": 14,
   "metadata": {
    "colab": {
     "base_uri": "https://localhost:8080/"
    },
    "id": "BWgPMTHc5QUD",
    "outputId": "632d45f4-e935-46e1-85fd-bdfb68733ab3"
   },
   "outputs": [
    {
     "name": "stdout",
     "output_type": "stream",
     "text": [
      "\u001b[1m782/782\u001b[0m \u001b[32m━━━━━━━━━━━━━━━━━━━━\u001b[0m\u001b[37m\u001b[0m \u001b[1m3s\u001b[0m 2ms/step - accuracy: 0.8826 - loss: 0.2924\n"
     ]
    }
   ],
   "source": [
    "results = model.evaluate(x_test, test_labels)"
   ]
  },
  {
   "cell_type": "code",
   "execution_count": 15,
   "metadata": {
    "colab": {
     "base_uri": "https://localhost:8080/"
    },
    "id": "TQT1WAft5Zhf",
    "outputId": "4aa26cf4-8014-4cc5-b159-01afd30e56df"
   },
   "outputs": [
    {
     "data": {
      "text/plain": [
       "[0.2885099947452545, 0.8853999972343445]"
      ]
     },
     "execution_count": 15,
     "metadata": {},
     "output_type": "execute_result"
    }
   ],
   "source": [
    "results"
   ]
  },
  {
   "cell_type": "code",
   "execution_count": 16,
   "metadata": {
    "id": "X2UNXZQF57Vi"
   },
   "outputs": [],
   "source": [
    "review1 = \"\"\"this film was just brilliant casting location scenery story direction everyone's\n",
    "really suited the part they played and you could just imagine being there robert ?\n",
    "is an amazing actor and now the same being director ? father came from the same scottish\n",
    "island as myself so i loved the fact there was a real connection with this film the witty \"\"\"\n",
    "\n",
    "review2=\"\"\"\n",
    "remarks throughout the film were great it was just brilliant so much that i bought the film as\n",
    "soon as it was released for and would recommend it to everyone to watch and the fly fishing\n",
    "was amazing really cried at the end it was so sad and you know what they say if you cry at a film\n",
    "it must have been good and this definitely was also to the two little boy's that played the ? of\n",
    "norman and paul they were just brilliant children are often left out of the ? list i think because\n",
    "the stars that play them all grown up are such a big profile for the whole film but these children are\n",
    "amazing and should be praised for what they have done don't you think the whole story was so lovely because\n",
    "it was true and was someone's life after all that was shared with us all\"\"\"\n",
    "reviews = [review2,review1]"
   ]
  },
  {
   "cell_type": "code",
   "execution_count": 17,
   "metadata": {
    "id": "7A4Cl-fA6JUq"
   },
   "outputs": [],
   "source": [
    "from tensorflow.keras.layers import TextVectorization\n",
    "import tensorflow as tf\n",
    "import string\n",
    "import re\n",
    "\n",
    "def custom_standardization_fn(string_tensor):\n",
    "  lowercase_string = tf.strings.lower(string_tensor)\n",
    "  return tf.strings.regex_replace(lowercase_string, f\"[{re.escape(string.punctuation)}]\", \"\")\n",
    "\n",
    "def custom_split_fn(string_tensor):\n",
    "  return tf.strings.split(string_tensor)\n",
    "\n",
    "text_vectorization = TextVectorization(output_mode=\"int\",standardize=custom_standardization_fn,split=custom_split_fn,)"
   ]
  },
  {
   "cell_type": "code",
   "execution_count": 18,
   "metadata": {},
   "outputs": [
    {
     "data": {
      "text/plain": [
       "<TextVectorization name=text_vectorization, built=False>"
      ]
     },
     "execution_count": 18,
     "metadata": {},
     "output_type": "execute_result"
    }
   ],
   "source": [
    "text_vectorization"
   ]
  },
  {
   "cell_type": "code",
   "execution_count": 19,
   "metadata": {
    "id": "oehOh04Y7emv"
   },
   "outputs": [],
   "source": [
    "text_vectorization.adapt(reviews)"
   ]
  },
  {
   "cell_type": "code",
   "execution_count": 20,
   "metadata": {
    "id": "Arpq4hLB7_1F"
   },
   "outputs": [
    {
     "data": {
      "text/plain": [
       "['',\n",
       " '[UNK]',\n",
       " 'the',\n",
       " 'was',\n",
       " 'and',\n",
       " 'it',\n",
       " 'film',\n",
       " 'you',\n",
       " 'they',\n",
       " 'that',\n",
       " 'so',\n",
       " 'just',\n",
       " 'to',\n",
       " 'this',\n",
       " 'i',\n",
       " 'for',\n",
       " 'brilliant',\n",
       " 'as',\n",
       " 'are',\n",
       " 'amazing',\n",
       " 'all',\n",
       " 'a',\n",
       " 'with',\n",
       " 'whole',\n",
       " 'what',\n",
       " 'were',\n",
       " 'think',\n",
       " 'there',\n",
       " 'story',\n",
       " 'same',\n",
       " 'really',\n",
       " 'played',\n",
       " 'of',\n",
       " 'have',\n",
       " 'children',\n",
       " 'being',\n",
       " 'because',\n",
       " 'at',\n",
       " 'would',\n",
       " 'witty',\n",
       " 'watch',\n",
       " 'us',\n",
       " 'up',\n",
       " 'two',\n",
       " 'true',\n",
       " 'throughout',\n",
       " 'these',\n",
       " 'them',\n",
       " 'suited',\n",
       " 'such',\n",
       " 'stars',\n",
       " 'soon',\n",
       " 'someones',\n",
       " 'should',\n",
       " 'shared',\n",
       " 'scottish',\n",
       " 'scenery',\n",
       " 'say',\n",
       " 'sad',\n",
       " 'robert',\n",
       " 'remarks',\n",
       " 'released',\n",
       " 'recommend',\n",
       " 'real',\n",
       " 'profile',\n",
       " 'praised',\n",
       " 'play',\n",
       " 'paul',\n",
       " 'part',\n",
       " 'out',\n",
       " 'often',\n",
       " 'now',\n",
       " 'norman',\n",
       " 'myself',\n",
       " 'must',\n",
       " 'much',\n",
       " 'lovely',\n",
       " 'loved',\n",
       " 'location',\n",
       " 'little',\n",
       " 'list',\n",
       " 'life',\n",
       " 'left',\n",
       " 'know',\n",
       " 'island',\n",
       " 'is',\n",
       " 'imagine',\n",
       " 'if',\n",
       " 'grown',\n",
       " 'great',\n",
       " 'good',\n",
       " 'from',\n",
       " 'fly',\n",
       " 'fishing',\n",
       " 'father',\n",
       " 'fact',\n",
       " 'everyones',\n",
       " 'everyone',\n",
       " 'end',\n",
       " 'dont',\n",
       " 'done',\n",
       " 'director',\n",
       " 'direction',\n",
       " 'definitely',\n",
       " 'cry',\n",
       " 'cried',\n",
       " 'could',\n",
       " 'connection',\n",
       " 'casting',\n",
       " 'came',\n",
       " 'but',\n",
       " 'boys',\n",
       " 'bought',\n",
       " 'big',\n",
       " 'been',\n",
       " 'be',\n",
       " 'an',\n",
       " 'also',\n",
       " 'after',\n",
       " 'actor']"
      ]
     },
     "execution_count": 20,
     "metadata": {},
     "output_type": "execute_result"
    }
   ],
   "source": [
    "text_vectorization.get_vocabulary()"
   ]
  },
  {
   "cell_type": "code",
   "execution_count": 21,
   "metadata": {
    "id": "HjC78Qvc8CtC"
   },
   "outputs": [],
   "source": [
    "sequences = text_vectorization.call(reviews)"
   ]
  },
  {
   "cell_type": "code",
   "execution_count": 22,
   "metadata": {
    "id": "7oL6WmGY8ow4"
   },
   "outputs": [],
   "source": [
    "inputs = vectorize_sequences(sequences)"
   ]
  },
  {
   "cell_type": "code",
   "execution_count": 23,
   "metadata": {},
   "outputs": [
    {
     "data": {
      "text/plain": [
       "array([[0., 0., 1., ..., 0., 0., 0.],\n",
       "       [1., 0., 1., ..., 0., 0., 0.]])"
      ]
     },
     "execution_count": 23,
     "metadata": {},
     "output_type": "execute_result"
    }
   ],
   "source": [
    "inputs"
   ]
  },
  {
   "cell_type": "code",
   "execution_count": 24,
   "metadata": {
    "colab": {
     "base_uri": "https://localhost:8080/"
    },
    "id": "1RRKOyhQ-6rG",
    "outputId": "58775d51-c239-49aa-e3af-604a321ef00d"
   },
   "outputs": [
    {
     "name": "stdout",
     "output_type": "stream",
     "text": [
      "\u001b[1m1/1\u001b[0m \u001b[32m━━━━━━━━━━━━━━━━━━━━\u001b[0m\u001b[37m\u001b[0m \u001b[1m0s\u001b[0m 117ms/step\n"
     ]
    },
    {
     "data": {
      "text/plain": [
       "array([[0.8158419 ],\n",
       "       [0.38964766]], dtype=float32)"
      ]
     },
     "execution_count": 24,
     "metadata": {},
     "output_type": "execute_result"
    }
   ],
   "source": [
    "model.predict(inputs)"
   ]
  },
  {
   "cell_type": "code",
   "execution_count": 26,
   "metadata": {
    "id": "raRLzuLk_AeJ"
   },
   "outputs": [
    {
     "name": "stderr",
     "output_type": "stream",
     "text": [
      "WARNING:absl:You are saving your model as an HDF5 file via `model.save()` or `keras.saving.save_model(model)`. This file format is considered legacy. We recommend using instead the native Keras format, e.g. `model.save('my_model.keras')` or `keras.saving.save_model(model, 'my_model.keras')`. \n"
     ]
    },
    {
     "name": "stdout",
     "output_type": "stream",
     "text": [
      "Model saved successfully!\n"
     ]
    }
   ],
   "source": [
    "model.save(\"model.h5\")\n",
    "print(\"Model saved successfully!\")"
   ]
  },
  {
   "cell_type": "code",
   "execution_count": null,
   "metadata": {},
   "outputs": [],
   "source": []
  },
  {
   "cell_type": "code",
   "execution_count": null,
   "metadata": {},
   "outputs": [],
   "source": []
  }
 ],
 "metadata": {
  "colab": {
   "provenance": []
  },
  "kernelspec": {
   "display_name": "Python 3 (ipykernel)",
   "language": "python",
   "name": "python3"
  },
  "language_info": {
   "codemirror_mode": {
    "name": "ipython",
    "version": 3
   },
   "file_extension": ".py",
   "mimetype": "text/x-python",
   "name": "python",
   "nbconvert_exporter": "python",
   "pygments_lexer": "ipython3",
   "version": "3.11.7"
  }
 },
 "nbformat": 4,
 "nbformat_minor": 4
}
